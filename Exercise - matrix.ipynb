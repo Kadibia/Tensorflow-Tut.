{
 "cells": [
  {
   "cell_type": "code",
   "execution_count": 1,
   "id": "0b2646e7",
   "metadata": {},
   "outputs": [],
   "source": [
    "import numpy as np"
   ]
  },
  {
   "cell_type": "code",
   "execution_count": 2,
   "id": "e4705af0",
   "metadata": {},
   "outputs": [],
   "source": [
    "Revenue_USD = np.array([[200, 68, 110, 80], [220,79, 140,85], [250, 105, 180, 90]])\n",
    "Revenue_INR = 75"
   ]
  },
  {
   "cell_type": "code",
   "execution_count": 3,
   "id": "652aa3e9",
   "metadata": {},
   "outputs": [
    {
     "data": {
      "text/plain": [
       "array([[15000,  5100,  8250,  6000],\n",
       "       [16500,  5925, 10500,  6375],\n",
       "       [18750,  7875, 13500,  6750]])"
      ]
     },
     "execution_count": 3,
     "metadata": {},
     "output_type": "execute_result"
    }
   ],
   "source": [
    "np.dot(Revenue_USD, Revenue_INR)"
   ]
  },
  {
   "cell_type": "code",
   "execution_count": 4,
   "id": "a5bf809a",
   "metadata": {},
   "outputs": [],
   "source": [
    "price_per_unit = np.array([20,30,15])\n",
    "units_sold = np.array([[50, 10, 40], [60, 13, 70], [25, 5, 52]])"
   ]
  },
  {
   "cell_type": "code",
   "execution_count": 5,
   "id": "30d0a38a",
   "metadata": {},
   "outputs": [
    {
     "data": {
      "text/plain": [
       "array([1900, 2640, 1430])"
      ]
     },
     "execution_count": 5,
     "metadata": {},
     "output_type": "execute_result"
    }
   ],
   "source": [
    "np.dot(units_sold, price_per_unit)"
   ]
  },
  {
   "cell_type": "code",
   "execution_count": null,
   "id": "dc778239",
   "metadata": {},
   "outputs": [],
   "source": []
  }
 ],
 "metadata": {
  "kernelspec": {
   "display_name": "Python 3 (ipykernel)",
   "language": "python",
   "name": "python3"
  },
  "language_info": {
   "codemirror_mode": {
    "name": "ipython",
    "version": 3
   },
   "file_extension": ".py",
   "mimetype": "text/x-python",
   "name": "python",
   "nbconvert_exporter": "python",
   "pygments_lexer": "ipython3",
   "version": "3.10.13"
  }
 },
 "nbformat": 4,
 "nbformat_minor": 5
}
