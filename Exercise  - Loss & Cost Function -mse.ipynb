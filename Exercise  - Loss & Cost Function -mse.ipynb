{
 "cells": [
  {
   "cell_type": "markdown",
   "id": "f01d00c1",
   "metadata": {},
   "source": [
    "## Implementing a mean squared error without using numpy"
   ]
  },
  {
   "cell_type": "code",
   "execution_count": 1,
   "id": "5157ee13",
   "metadata": {},
   "outputs": [],
   "source": [
    "import numpy as np"
   ]
  },
  {
   "cell_type": "code",
   "execution_count": 2,
   "id": "49ea469b",
   "metadata": {},
   "outputs": [],
   "source": [
    "y_predicted = np.array([1,1,0,0,1])\n",
    "y_true = np.array([0.30, 0.7, 1,0,0.5])"
   ]
  },
  {
   "cell_type": "code",
   "execution_count": 3,
   "id": "fd642c5b",
   "metadata": {},
   "outputs": [],
   "source": [
    "def mse(y_true, y_predicted):\n",
    "    total_error = 0\n",
    "    for yt, yp in zip(y_true, y_predicted):\n",
    "        total_error += abs(yt - yp) ** 2\n",
    "    print(\"Total Squared Error:\", total_error)\n",
    "    mse = total_error / len(y_true)\n",
    "    print(\"Mean Squared Error:\", mse)\n",
    "    return mse"
   ]
  },
  {
   "cell_type": "code",
   "execution_count": 4,
   "id": "5b3ffe63",
   "metadata": {},
   "outputs": [
    {
     "name": "stdout",
     "output_type": "stream",
     "text": [
      "Total Squared Error: 1.83\n",
      "Mean Squared Error: 0.366\n"
     ]
    },
    {
     "data": {
      "text/plain": [
       "0.366"
      ]
     },
     "execution_count": 4,
     "metadata": {},
     "output_type": "execute_result"
    }
   ],
   "source": [
    "mse(y_true, y_predicted)"
   ]
  },
  {
   "cell_type": "code",
   "execution_count": 5,
   "id": "84e69753",
   "metadata": {},
   "outputs": [
    {
     "data": {
      "text/plain": [
       "array([0.49, 0.09, 1.  , 0.  , 0.25])"
      ]
     },
     "execution_count": 5,
     "metadata": {},
     "output_type": "execute_result"
    }
   ],
   "source": [
    "(y_true -y_predicted) ** 2"
   ]
  },
  {
   "cell_type": "markdown",
   "id": "7e219896",
   "metadata": {},
   "source": [
    "## Implementing a mean squared error using numpy"
   ]
  },
  {
   "cell_type": "code",
   "execution_count": 6,
   "id": "e7bc8b95",
   "metadata": {},
   "outputs": [
    {
     "data": {
      "text/plain": [
       "array([0.49, 0.09, 1.  , 0.  , 0.25])"
      ]
     },
     "execution_count": 6,
     "metadata": {},
     "output_type": "execute_result"
    }
   ],
   "source": [
    "np.abs(y_predicted - y_true) ** 2"
   ]
  },
  {
   "cell_type": "code",
   "execution_count": 7,
   "id": "f8a590ff",
   "metadata": {},
   "outputs": [],
   "source": [
    "z = np.mean(np.square(y_predicted - y_true)) "
   ]
  },
  {
   "cell_type": "code",
   "execution_count": 8,
   "id": "9ea272d5",
   "metadata": {},
   "outputs": [
    {
     "name": "stdout",
     "output_type": "stream",
     "text": [
      "0.366\n"
     ]
    }
   ],
   "source": [
    "print(z)"
   ]
  },
  {
   "cell_type": "code",
   "execution_count": null,
   "id": "8e3ba24e",
   "metadata": {},
   "outputs": [],
   "source": []
  }
 ],
 "metadata": {
  "kernelspec": {
   "display_name": "Python 3 (ipykernel)",
   "language": "python",
   "name": "python3"
  },
  "language_info": {
   "codemirror_mode": {
    "name": "ipython",
    "version": 3
   },
   "file_extension": ".py",
   "mimetype": "text/x-python",
   "name": "python",
   "nbconvert_exporter": "python",
   "pygments_lexer": "ipython3",
   "version": "3.10.13"
  }
 },
 "nbformat": 4,
 "nbformat_minor": 5
}
